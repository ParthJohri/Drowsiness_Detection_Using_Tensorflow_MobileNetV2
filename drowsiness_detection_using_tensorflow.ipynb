{
  "cells": [
    {
      "cell_type": "code",
      "execution_count": null,
      "metadata": {
        "colab": {
          "base_uri": "https://localhost:8080/"
        },
        "id": "b5QY_UCsd01b",
        "outputId": "c30abc73-dd84-484a-9845-7ff4516aa247"
      },
      "outputs": [],
      "source": [
        "!pip install --upgrade pip"
      ]
    },
    {
      "cell_type": "code",
      "execution_count": null,
      "metadata": {
        "colab": {
          "base_uri": "https://localhost:8080/"
        },
        "id": "HfRteLJd7VO5",
        "outputId": "207dfdaa-e8f5-4260-c3ae-5a3afa043eb0"
      },
      "outputs": [],
      "source": [
        "from google.colab import drive\n",
        "drive.mount('/content/gdrive')\n",
        "%cd /content/gdrive/MyDrive/Drowsiness_detection_using_tensorflow/"
      ]
    },
    {
      "cell_type": "code",
      "execution_count": null,
      "metadata": {
        "colab": {
          "base_uri": "https://localhost:8080/",
          "height": 1000
        },
        "id": "so-jlb-Pd0RM",
        "outputId": "becb0cae-ff7a-48b3-f885-658126da96e0"
      },
      "outputs": [],
      "source": [
        "!pip install tensorflow scikit-learn imutils matplotlib numpy argparse"
      ]
    },
    {
      "cell_type": "code",
      "execution_count": null,
      "metadata": {
        "id": "hgGw0TJ8cp5t"
      },
      "outputs": [],
      "source": [
        "from tensorflow.keras.preprocessing.image import ImageDataGenerator\n",
        "from tensorflow.keras.applications import MobileNetV2\n",
        "from tensorflow.keras.layers import AveragePooling2D\n",
        "from tensorflow.keras.layers import Dropout\n",
        "from tensorflow.keras.layers import Flatten\n",
        "from tensorflow.keras.layers import Dense\n",
        "from tensorflow.keras.layers import Input\n",
        "from tensorflow.keras.models import Model\n",
        "from tensorflow.keras.optimizers import Adam\n",
        "from tensorflow.keras.applications.mobilenet_v2 import preprocess_input\n",
        "from tensorflow.keras.preprocessing.image import img_to_array\n",
        "from tensorflow.keras.preprocessing.image import load_img\n",
        "from tensorflow.keras.utils import to_categorical\n",
        "from sklearn.preprocessing import LabelBinarizer\n",
        "from sklearn.model_selection import train_test_split\n",
        "from sklearn.metrics import classification_report\n",
        "from imutils import paths\n",
        "import matplotlib.pyplot as plt\n",
        "import numpy as np\n",
        "import argparse\n",
        "import os"
      ]
    },
    {
      "cell_type": "code",
      "execution_count": null,
      "metadata": {
        "colab": {
          "base_uri": "https://localhost:8080/"
        },
        "id": "0ZTTFuvx7mK-",
        "outputId": "24ad7752-9541-4474-db62-a97930eba639"
      },
      "outputs": [],
      "source": [
        "%cd /content/gdrive/MyDrive/Drowsiness_detection_using_tensorflow/\n",
        "print(os.getcwd())\n",
        "\n",
        "dataset_path=os.getcwd()+\"/data\"\n",
        "print(dataset_path)\n",
        "model_path=os.getcwd()+\"/model/drowsiness_model\"\n",
        "print(model_path)\n",
        "plot_path=os.getcwd()+\"/plot\"\n",
        "print(plot_path)"
      ]
    },
    {
      "cell_type": "code",
      "execution_count": null,
      "metadata": {
        "id": "NYth6k-m7mp9"
      },
      "outputs": [],
      "source": [
        "\n",
        "INIT_LR = 1e-4\n",
        "EPOCHS = 25\n",
        "BS = 32"
      ]
    },
    {
      "cell_type": "code",
      "execution_count": null,
      "metadata": {
        "colab": {
          "base_uri": "https://localhost:8080/"
        },
        "id": "bHIVz3ib7m0Y",
        "outputId": "72a99a03-9821-4898-859f-81a191f98842"
      },
      "outputs": [],
      "source": [
        "\n",
        "print(\"Loading images...\")\n",
        "imagePaths = list(paths.list_images(dataset_path))\n",
        "print(imagePaths)\n",
        "data = []\n",
        "labels = []"
      ]
    },
    {
      "cell_type": "code",
      "execution_count": null,
      "metadata": {
        "colab": {
          "base_uri": "https://localhost:8080/"
        },
        "id": "6Cp6CNEz7m2s",
        "outputId": "d82e54c7-97e7-4c7a-fd21-c6051dcaee8d"
      },
      "outputs": [],
      "source": [
        "import os\n",
        "import numpy as np\n",
        "\n",
        "data_cache_path = '/content/gdrive/MyDrive/Drowsiness_detection_using_tensorflow/cache/data.npy'\n",
        "labels_cache_path = '/content/gdrive/MyDrive/Drowsiness_detection_using_tensorflow/cache/labels.npy'\n",
        "\n",
        "if not (os.path.exists(data_cache_path) and os.path.exists(labels_cache_path)):\n",
        "\n",
        "    for imagePath in imagePaths:\n",
        "        label = imagePath.split(\"/\")[-2]\n",
        "\n",
        "        image = load_img(imagePath, target_size=(224, 224))\n",
        "        image = img_to_array(image)\n",
        "        image = preprocess_input(image)\n",
        "\n",
        "        data.append(image)\n",
        "        labels.append(label)\n",
        "\n",
        "    data_np = np.array(data)\n",
        "    labels_np = np.array(labels)\n",
        "\n",
        "    np.save(data_cache_path, data_np)\n",
        "    np.save(labels_cache_path, labels_np)\n",
        "\n",
        "    print(\"Data and labels have been saved to cache files.\")\n",
        "else:\n",
        "    print(\"Cache files already exist. Skipping data processing.\")\n"
      ]
    },
    {
      "cell_type": "code",
      "execution_count": null,
      "metadata": {
        "colab": {
          "base_uri": "https://localhost:8080/"
        },
        "id": "JCVCZZ5C7m5C",
        "outputId": "b912a0dc-e930-471f-89b3-696705ba7312"
      },
      "outputs": [],
      "source": [
        "data = np.load('/content/gdrive/MyDrive/Drowsiness_detection_using_tensorflow/cache/data.npy')\n",
        "labels = np.load('/content/gdrive/MyDrive/Drowsiness_detection_using_tensorflow/cache/labels.npy')\n",
        "\n",
        "data = data.astype(\"float32\")\n",
        "print(data);\n",
        "print(labels);\n",
        "lb = LabelBinarizer()\n",
        "labels = lb.fit_transform(labels)\n",
        "labels = to_categorical(labels)"
      ]
    },
    {
      "cell_type": "code",
      "execution_count": null,
      "metadata": {
        "id": "npP9uhBD7m7I"
      },
      "outputs": [],
      "source": [
        "\n",
        "(trainX, testX, trainY, testY) = train_test_split(data, labels,\n",
        "\ttest_size=0.01, stratify=labels, random_state=42)\n"
      ]
    },
    {
      "cell_type": "code",
      "execution_count": null,
      "metadata": {
        "id": "v-M1ucuM7m9Q"
      },
      "outputs": [],
      "source": [
        "aug = ImageDataGenerator(\n",
        "\trotation_range=20,\n",
        "\tzoom_range=0.15,\n",
        "\twidth_shift_range=0.2,\n",
        "\theight_shift_range=0.2,\n",
        "\tshear_range=0.15,\n",
        "\thorizontal_flip=True,\n",
        "\tfill_mode=\"nearest\")"
      ]
    },
    {
      "cell_type": "code",
      "execution_count": null,
      "metadata": {
        "colab": {
          "base_uri": "https://localhost:8080/"
        },
        "id": "9sYneNop7m_k",
        "outputId": "f78638fc-c28a-41db-a826-ea8015e2f4af"
      },
      "outputs": [],
      "source": [
        "baseModel = MobileNetV2(weights=\"imagenet\",\n",
        "                        include_top=False,\n",
        "                        input_tensor=Input(shape=(224, 224, 3)))"
      ]
    },
    {
      "cell_type": "code",
      "execution_count": null,
      "metadata": {
        "id": "PDE8Y-OL7nBp"
      },
      "outputs": [],
      "source": [
        "headModel = baseModel.output\n",
        "headModel = AveragePooling2D(pool_size=(7, 7))(headModel)\n",
        "headModel = Flatten(name=\"flatten\")(headModel)\n",
        "headModel = Dense(128, activation=\"relu\")(headModel)\n",
        "headModel = Dropout(0.5)(headModel)\n",
        "headModel = Dense(2, activation=\"softmax\")(headModel)"
      ]
    },
    {
      "cell_type": "code",
      "execution_count": null,
      "metadata": {
        "id": "7BqwMxYr7nDu"
      },
      "outputs": [],
      "source": [
        "model = Model(inputs=baseModel.input, outputs=headModel)"
      ]
    },
    {
      "cell_type": "code",
      "execution_count": null,
      "metadata": {
        "id": "FgwsKrSO7nFz"
      },
      "outputs": [],
      "source": [
        "for layer in baseModel.layers:\n",
        "\tlayer.trainable = False"
      ]
    },
    {
      "cell_type": "code",
      "execution_count": null,
      "metadata": {
        "colab": {
          "base_uri": "https://localhost:8080/"
        },
        "id": "JLCg-6sK7nH4",
        "outputId": "21c770a1-a822-4dcf-b65d-59875c3d51ab"
      },
      "outputs": [],
      "source": [
        "print(\"[INFO] compiling model...\")\n",
        "opt = Adam(learning_rate=INIT_LR)\n",
        "model.compile(loss=\"binary_crossentropy\", optimizer=opt,metrics=[\"accuracy\"])"
      ]
    },
    {
      "cell_type": "code",
      "execution_count": null,
      "metadata": {
        "colab": {
          "base_uri": "https://localhost:8080/"
        },
        "id": "pSK1eSwEjxWM",
        "outputId": "dd37c946-b431-4bf8-9ab8-70b3b99d8d28"
      },
      "outputs": [],
      "source": [
        "print((len(trainX)))\n",
        "print(BS)\n",
        "print(len(trainX) // BS)"
      ]
    },
    {
      "cell_type": "code",
      "execution_count": null,
      "metadata": {
        "colab": {
          "base_uri": "https://localhost:8080/"
        },
        "id": "fyeaYMZw7nJs",
        "outputId": "9a91a88f-421a-464b-e93a-5e42c89e6e8c"
      },
      "outputs": [],
      "source": [
        "print(\"[INFO] training head...\")\n",
        "H = model.fit(\n",
        "\taug.flow(trainX, trainY, batch_size=BS),\n",
        "\tsteps_per_epoch=len(trainX) // BS,\n",
        "\tvalidation_data=(testX, testY),\n",
        "\tvalidation_steps=len(testX) // BS,\n",
        "\tepochs=EPOCHS)"
      ]
    },
    {
      "cell_type": "code",
      "execution_count": null,
      "metadata": {
        "colab": {
          "base_uri": "https://localhost:8080/"
        },
        "id": "_5YaqH5c77eN",
        "outputId": "0c419f0d-c08a-410f-e977-1662e4cff801"
      },
      "outputs": [],
      "source": [
        "print(\"[INFO] evaluating network...\")\n",
        "predIdxs = model.predict(testX, batch_size=BS)"
      ]
    },
    {
      "cell_type": "code",
      "execution_count": null,
      "metadata": {
        "id": "Q4d6YUqG77m3"
      },
      "outputs": [],
      "source": [
        "predIdxs = np.argmax(predIdxs, axis=1)"
      ]
    },
    {
      "cell_type": "code",
      "execution_count": null,
      "metadata": {
        "colab": {
          "base_uri": "https://localhost:8080/"
        },
        "id": "7Lh2_QVh77p-",
        "outputId": "15eda5cf-ed6f-401d-d85a-947303e86748"
      },
      "outputs": [],
      "source": [
        "print(classification_report(testY.argmax(axis=1), predIdxs,\n",
        "\ttarget_names=lb.classes_))\n",
        "\n",
        "print(\"[INFO] saving drowsiness detector model... path: %s\"%(model_path+\".h5\"))\n",
        "model.save(model_path+\".h5\")\n",
        "model.save(model_path+'my_model.keras')"
      ]
    },
    {
      "cell_type": "code",
      "execution_count": null,
      "metadata": {
        "colab": {
          "base_uri": "https://localhost:8080/"
        },
        "id": "VPyLn6JVORTi",
        "outputId": "10078b7b-b36d-4fe5-a763-af6743ba71d8"
      },
      "outputs": [],
      "source": [
        "import numpy as np\n",
        "from PIL import Image, ImageDraw, ImageFont\n",
        "\n",
        "image_path = \"/content/gdrive/MyDrive/Drowsiness_detection_using_tensorflow/testing/image.png\"\n",
        "image = Image.open(image_path)\n",
        "\n",
        "image = image.resize((model.input_shape[1], model.input_shape[2]))\n",
        "\n",
        "image_array = np.array(image)\n",
        "image_array = np.expand_dims(image_array, axis=0)\n",
        "\n",
        "predictions = model.predict(image_array)\n",
        "print(predictions)\n",
        "\n",
        "class_names = ['Awake', 'Drowsy']\n",
        "max_index = np.argmax(predictions[0])\n",
        "max_class_name = class_names[max_index]\n",
        "max_probability = predictions[0][max_index]\n",
        "\n",
        "draw = ImageDraw.Draw(image)\n",
        "font = ImageFont.truetype(\"/usr/share/fonts/truetype/liberation/LiberationSans-Regular.ttf\", 16)\n",
        "max_probability_percentage = max_probability * 100\n",
        "max_probability_percentage = round(max_probability_percentage, 2)\n",
        "text = f\"{max_class_name} ({max_probability_percentage}%)\"\n",
        "text_size = draw.textsize(text, font)\n",
        "text_position = (10, 10) \n",
        "\n",
        "background_position = (text_position[0] - 5, text_position[1] - 5,\n",
        "                       text_position[0] + text_size[0] + 5, text_position[1] + text_size[1] + 5)\n",
        "draw.rectangle(background_position, fill = \"red\" if max_index == 1 else \"green\")\n",
        "draw.text(text_position, text, fill=\"white\", font=font)\n",
        "\n",
        "output_path = \"/content/gdrive/MyDrive/Drowsiness_detection_using_tensorflow/testoutputs/image_with_text.png\"\n",
        "image.save(output_path)\n",
        "print(f\"Image saved to {output_path}\")\n"
      ]
    },
    {
      "cell_type": "code",
      "execution_count": null,
      "metadata": {
        "colab": {
          "base_uri": "https://localhost:8080/"
        },
        "id": "83lsruRLTIEr",
        "outputId": "72a956aa-917d-40a4-d8dc-88a66a28ab2d"
      },
      "outputs": [],
      "source": [
        "import numpy as np\n",
        "from PIL import Image, ImageDraw, ImageFont\n",
        "import os\n",
        "import tensorflow as tf  \n",
        "import time\n",
        "\n",
        "model = tf.keras.models.load_model(\"/content/gdrive/MyDrive/Drowsiness_detection_using_tensorflow/model/drowsiness_model.h5\")\n",
        "input_dir = \"/content/gdrive/MyDrive/Drowsiness_detection_using_tensorflow/testing\"\n",
        "output_dir = \"/content/gdrive/MyDrive/Drowsiness_detection_using_tensorflow/example234\"\n",
        "\n",
        "os.makedirs(output_dir, exist_ok=True)\n",
        "\n",
        "class_names = ['Awake', 'Drowsy'] \n",
        "\n",
        "font_path = \"/usr/share/fonts/truetype/liberation/LiberationSans-Regular.ttf\"\n",
        "font_size = 16\n",
        "font = ImageFont.truetype(font_path, font_size)\n",
        "\n",
        "start_time = time.time()\n",
        "\n",
        "for filename in os.listdir(input_dir):\n",
        "    if filename.endswith(\".png\") or filename.endswith(\".jpg\") or filename.endswith(\".jpeg\"):\n",
        "        try:\n",
        "            image_path = os.path.join(input_dir, filename)\n",
        "            image = Image.open(image_path)\n",
        "\n",
        "            if image.mode != 'RGB':\n",
        "                image = image.convert('RGB')\n",
        "\n",
        "            image = image.resize((model.input_shape[1], model.input_shape[2]))\n",
        "\n",
        "            image_array = np.array(image)\n",
        "            image_array = np.expand_dims(image_array, axis=0)\n",
        "\n",
        "            predictions = model.predict(image_array)\n",
        "            print(predictions)\n",
        "            max_index = np.argmax(predictions[0])\n",
        "            max_class_name = class_names[max_index]\n",
        "            max_probability = predictions[0][max_index]\n",
        "            max_probability_percentage = max_probability * 100\n",
        "            max_probability_percentage = round(max_probability_percentage, 2)\n",
        "\n",
        "            draw = ImageDraw.Draw(image)\n",
        "            text = f\"{max_class_name} ({max_probability_percentage}%)\"\n",
        "            text_size = draw.textsize(text, font)\n",
        "            text_position = (10, 10) \n",
        "\n",
        "            background_position = (text_position[0] - 5, text_position[1] - 5,\n",
        "                                   text_position[0] + text_size[0] + 5, text_position[1] + text_size[1] + 5)\n",
        "            draw.rectangle(background_position, fill=\"red\" if max_index == 1 else \"green\")\n",
        "            draw.text(text_position, text, fill=\"white\", font=font)\n",
        "\n",
        "            output_path = os.path.join(output_dir, filename)\n",
        "            image.save(output_path)\n",
        "            print(f\"Image saved to {output_path}\")\n",
        "\n",
        "        except Exception as e:\n",
        "            print(f\"Error processing {filename}: {e}\")\n",
        "end_time = time.time()\n",
        "\n",
        "inference_time = end_time - start_time\n",
        "print(f'Inference Time: {inference_time} seconds')\n",
        "\n",
        "with open('inference_time.txt', 'w') as file:\n",
        "    file.write(f'Inference Time: {inference_time} seconds\\n')"
      ]
    },
    {
      "cell_type": "code",
      "execution_count": null,
      "metadata": {
        "id": "nVnZfNq-UvwW"
      },
      "outputs": [],
      "source": [
        "model_json = model.to_json()\n",
        "json_file_path = \"/content/gdrive/MyDrive/Drowsiness_detection_using_tensorflow/model/model.json\"\n",
        "with open(json_file_path, \"w\") as json_file:\n",
        "    json_file.write(model_json)"
      ]
    },
    {
      "cell_type": "code",
      "execution_count": null,
      "metadata": {
        "colab": {
          "base_uri": "https://localhost:8080/",
          "height": 1000
        },
        "id": "VLe1mdKr77tG",
        "outputId": "92d158a6-898b-4da1-9ac4-672fd2a5a7c0"
      },
      "outputs": [],
      "source": [
        "N = EPOCHS\n",
        "plt.style.use(\"ggplot\")\n",
        "\n",
        "plt.figure()\n",
        "plt.plot(np.arange(0, N), H.history[\"loss\"], label=\"train_loss\")\n",
        "plt.title(\"Training Loss\")\n",
        "plt.xlabel(\"Epoch\")\n",
        "plt.ylabel(\"Loss\")\n",
        "plt.legend(loc=\"lower left\")\n",
        "plt.savefig(os.path.join(plot_path, \"loss.png\"))\n",
        "\n",
        "plt.figure()\n",
        "plt.plot(np.arange(0, N), H.history[\"val_loss\"], label=\"val_loss\")\n",
        "plt.title(\"Training Val_Loss\")\n",
        "plt.xlabel(\"Epoch\")\n",
        "plt.ylabel(\"Val_Loss\")\n",
        "plt.legend(loc=\"lower left\")\n",
        "plt.savefig(os.path.join(plot_path, \"val_loss.png\"))\n",
        "\n",
        "plt.figure()\n",
        "plt.plot(np.arange(0, N), H.history[\"accuracy\"], label=\"train_acc\")\n",
        "plt.title(\"Accuracy\")\n",
        "plt.xlabel(\"Epoch\")\n",
        "plt.ylabel(\"Accuracy\")\n",
        "plt.legend(loc=\"lower left\")\n",
        "plt.savefig(os.path.join(plot_path, \"accuracy.png\"))\n",
        "\n",
        "plt.figure()\n",
        "plt.plot(np.arange(0, N), H.history[\"val_accuracy\"], label=\"val_acc\")\n",
        "plt.title(\"Val_Accuracy\")\n",
        "plt.xlabel(\"Epoch\")\n",
        "plt.ylabel(\"Val_Accuracy\")\n",
        "plt.legend(loc=\"lower left\")\n",
        "plt.savefig(os.path.join(plot_path, \"val_accuracy.png\"))\n",
        "\n",
        "plt.figure()\n",
        "plt.plot(np.arange(0, N), H.history[\"loss\"], label=\"train_loss\")\n",
        "plt.plot(np.arange(0, N), H.history[\"val_loss\"], label=\"val_loss\")\n",
        "plt.plot(np.arange(0, N), H.history[\"accuracy\"], label=\"train_acc\")\n",
        "plt.plot(np.arange(0, N), H.history[\"val_accuracy\"], label=\"val_acc\")\n",
        "plt.title(\"Loss/Accuracy\")\n",
        "plt.xlabel(\"Epoch\")\n",
        "plt.ylabel(\"Loss/Accuracy\")\n",
        "plt.legend(loc=\"lower left\")\n",
        "plt.savefig(os.path.join(plot_path, \"all_plots.png\"))"
      ]
    }
  ],
  "metadata": {
    "colab": {
      "machine_shape": "hm",
      "provenance": []
    },
    "kernelspec": {
      "display_name": "Python 3",
      "name": "python3"
    },
    "language_info": {
      "name": "python"
    }
  },
  "nbformat": 4,
  "nbformat_minor": 0
}
